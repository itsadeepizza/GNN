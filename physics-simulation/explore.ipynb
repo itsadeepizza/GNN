{
 "cells": [
  {
   "cell_type": "markdown",
   "metadata": {
    "collapsed": true,
    "pycharm": {
     "name": "#%% md\n"
    }
   },
   "source": [
    "{DATASET_NAME} one of the datasets following the naming used in the paper:\n",
    "\n",
    "WaterDrop\n",
    "Water\n",
    "Sand\n",
    "Goop\n",
    "MultiMaterial\n",
    "RandomFloor\n",
    "WaterRamps\n",
    "SandRamps\n",
    "FluidShake\n",
    "FluidShakeBox\n",
    "Continuous\n",
    "WaterDrop-XL\n",
    "Water-3D\n",
    "Sand-3D\n",
    "Goop-3D"
   ]
  },
  {
   "cell_type": "code",
   "execution_count": null,
   "outputs": [],
   "source": [
    "import wget\n",
    "\n",
    "DATASET_NAME = \"WaterDrop\"\n",
    "BASE_URL=f\"https://storage.googleapis.com/learning-to-simulate-complex-physics/Datasets/{DATASET_NAME}/\"\n",
    "\n",
    "\n",
    "\n",
    "for file in [\"metadata.json\", \"train.tfrecord\", \"valid.tfrecord\", \"test.tfrecord\"]:\n",
    "    wget.download(f\"{BASE_URL}{file}\", \"dataset/water_drop\")"
   ],
   "metadata": {
    "collapsed": false,
    "pycharm": {
     "name": "#%%\n"
    }
   }
  }
 ],
 "metadata": {
  "kernelspec": {
   "display_name": "Python 3",
   "language": "python",
   "name": "python3"
  },
  "language_info": {
   "codemirror_mode": {
    "name": "ipython",
    "version": 2
   },
   "file_extension": ".py",
   "mimetype": "text/x-python",
   "name": "python",
   "nbconvert_exporter": "python",
   "pygments_lexer": "ipython2",
   "version": "2.7.6"
  }
 },
 "nbformat": 4,
 "nbformat_minor": 0
}