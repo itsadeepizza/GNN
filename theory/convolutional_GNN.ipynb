{
 "cells": [
  {
   "cell_type": "markdown",
   "source": [
    "#  Fast Approximation Spectral-based Graph Convolutional Networks.\n",
    "Sources :\n",
    "\n",
    "SEMI-SUPERVISED CLASSIFICATION WITH\n",
    "GRAPH CONVOLUTIONAL NETWORKS: https://arxiv.org/pdf/1609.02907.pdf\n",
    "\n",
    "Graph gourier transform: https://users.ece.cmu.edu/~asandryh/papers/icassp13a.pdf\n",
    "\n",
    "$H^{l+1}=\\sigma (\\tilde{D}^{-1/2}\\tilde{A}\\tilde{D}^{-1/2}H^{(l)}W^{(l)})$\n",
    "\n",
    "where $ \\tilde{A} = A+I_{n}$\n",
    "\n",
    "$\\tilde{D}=\\sum_{i}\\tilde{A}_{ij}$\n",
    "\n",
    "$H^{(l)}$ is the $l$-th hidden layer and $W^{(l)}$ the weigths."
   ],
   "metadata": {
    "collapsed": false
   }
  },
  {
   "cell_type": "code",
   "execution_count": 18,
   "metadata": {
    "collapsed": true
   },
   "outputs": [
    {
     "data": {
      "text/plain": "<Figure size 432x288 with 1 Axes>",
      "image/png": "[encoded data removed]"
     },
     "metadata": {},
     "output_type": "display_data"
    }
   ],
   "source": [
    "import numpy as np\n",
    "import networkx as nx\n",
    "import matplotlib.pyplot as plt\n",
    "\n",
    "# create a graph and plot it\n",
    "G = nx.fast_gnp_random_graph(7, 0.20, 3, 3)\n",
    "nx.draw(G, cmap = plt.get_cmap('jet'), node_size=100);\n",
    "plt.show();"
   ]
  },
  {
   "cell_type": "code",
   "execution_count": 69,
   "outputs": [
    {
     "name": "stdout",
     "output_type": "stream",
     "text": [
      "[[0.25       0.35355339 0.         0.         0.         0.25\n",
      "  0.        ]\n",
      " [0.         0.5        0.40824829 0.         0.         0.\n",
      "  0.        ]\n",
      " [0.28867513 0.         0.33333333 0.         0.         0.28867513\n",
      "  0.40824829]\n",
      " [0.5        0.         0.         1.         0.         0.\n",
      "  0.        ]\n",
      " [0.         0.         0.57735027 0.         1.         0.5\n",
      "  0.        ]\n",
      " [0.25       0.         0.         0.         0.         0.25\n",
      "  0.        ]\n",
      " [0.         0.         0.         0.         0.         0.\n",
      "  0.5       ]]\n"
     ]
    }
   ],
   "source": [
    "# Adjacency matrix normalized\n",
    "A = np.array(nx.adjacency_matrix(G).todense())\n",
    "# Add self loop\n",
    "n = A.shape[0]\n",
    "A_tilde = A + np.eye(n)\n",
    "\n",
    "# Degree matrix of self loop matrix\n",
    "D_tilde = np.diag(A_tilde.sum(axis=0))\n",
    "# Normalize A\n",
    "A_star = np.linalg.inv(D_tilde) ** 0.5 @ A_tilde @ np.linalg.inv(D_tilde) ** 0.5\n",
    "print(A_star)"
   ],
   "metadata": {
    "collapsed": false,
    "pycharm": {
     "name": "#%%\n"
    }
   }
  },
  {
   "cell_type": "code",
   "execution_count": 71,
   "outputs": [
    {
     "data": {
      "text/plain": "array([-0.38672303, -0.23256175,  0.5       ,  0.5       ,  0.60324831,\n        0.89369897,  1.28900416])"
     },
     "execution_count": 71,
     "metadata": {},
     "output_type": "execute_result"
    }
   ],
   "source": [
    "# Normalized Laplacian matrix\n",
    "L = np.eye(n) - A_star\n",
    "Λ, U = np.linalg.eigh(L)\n",
    "Λ"
   ],
   "metadata": {
    "collapsed": false,
    "pycharm": {
     "name": "#%%\n"
    }
   }
  },
  {
   "cell_type": "code",
   "execution_count": 65,
   "outputs": [
    {
     "name": "stdout",
     "output_type": "stream",
     "text": [
      "[-0.46235836  0.55859163  1.          1.          1.          1.44140837\n",
      "  2.46235836]\n",
      "[-0.84775907  0.23463314  1.          1.          1.          1.76536686\n",
      "  2.84775907]\n"
     ]
    }
   ],
   "source": [
    "# Comparing the two matrix\n",
    "print(np.linalg.eigh(A_star)[0])\n",
    "print(np.linalg.eigh(A_tilde)[0])"
   ],
   "metadata": {
    "collapsed": false,
    "pycharm": {
     "name": "#%%\n"
    }
   }
  }
 ],
 "metadata": {
  "kernelspec": {
   "display_name": "Python 3",
   "language": "python",
   "name": "python3"
  },
  "language_info": {
   "codemirror_mode": {
    "name": "ipython",
    "version": 2
   },
   "file_extension": ".py",
   "mimetype": "text/x-python",
   "name": "python",
   "nbconvert_exporter": "python",
   "pygments_lexer": "ipython2",
   "version": "2.7.6"
  },
  "pycharm": {
   "stem_cell": {
    "cell_type": "raw",
    "source": [
     "\n",
     "\n",
     "\n"
    ],
    "metadata": {
     "collapsed": false
    }
   }
  }
 },
 "nbformat": 4,
 "nbformat_minor": 0
}